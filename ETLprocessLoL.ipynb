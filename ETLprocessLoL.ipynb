{
 "cells": [
  {
   "cell_type": "code",
   "id": "initial_id",
   "metadata": {
    "collapsed": true,
    "ExecuteTime": {
     "end_time": "2024-06-16T17:54:32.326078Z",
     "start_time": "2024-06-16T17:54:31.892553Z"
    }
   },
   "source": [
    "\n",
    "import pandas as pd\n",
    "\n",
    "from tqdm.notebook import tqdm\n",
    "import ast\n",
    "tqdm.pandas()\n",
    "\n",
    "\n",
    "save = True"
   ],
   "outputs": [],
   "execution_count": 1
  },
  {
   "metadata": {},
   "cell_type": "code",
   "source": [
    "match_data_df = pd.read_pickle('match_data_version1.pickle')\n",
    "\n",
    "if save :match_data_df.to_csv(\"intermediate1.csv\")"
   ],
   "id": "e171dfa2cb603759",
   "outputs": [],
   "execution_count": null
  },
  {
   "metadata": {},
   "cell_type": "code",
   "source": [
    "indexList = [i for i in match_data_df[match_data_df.gameMode != 'CLASSIC'].index if i != 0]\n",
    "match_data_df.drop(indexList, inplace=True)\n",
    "\n",
    "indexList2 = [i for i in match_data_df[match_data_df.gameDuration <= 300].index if i != 0]\n",
    "match_data_df.drop(indexList2, inplace=True)\n",
    "\n",
    "if save :match_data_df.to_csv(\"intermediate2.csv\")"
   ],
   "id": "21d6c3d1d583c8ea",
   "outputs": [],
   "execution_count": null
  },
  {
   "metadata": {},
   "cell_type": "code",
   "source": [
    "match_data_df.drop(['gameId',  'gameType', 'mapId', 'gameMode', 'participantIdentities'], axis=1, inplace=True)\n",
    "if save :match_data_df.to_csv(\"intermediate3.csv\")"
   ],
   "id": "db6eef5515390eb5",
   "outputs": [],
   "execution_count": null
  },
  {
   "metadata": {},
   "cell_type": "code",
   "source": [
    "match_data_df = match_data_df.join(pd.json_normalize(match_data_df.pop('participants')))\n",
    "if save :match_data_df.to_csv(\"intermediate4.csv\")"
   ],
   "id": "35ee4de0afeb973d",
   "outputs": [],
   "execution_count": null
  },
  {
   "metadata": {},
   "cell_type": "code",
   "source": [
    "match_data_df['zawodnicy'] = match_data_df[[i for i in range(10)]].apply(list, axis=1)\n",
    "if save :match_data_df.to_csv(\"intermediate5.csv\")"
   ],
   "id": "2f8b5933410249ce",
   "outputs": [],
   "execution_count": null
  },
  {
   "metadata": {},
   "cell_type": "code",
   "source": [
    "match_data_df.drop(columns=[i for i in range(10)], inplace=True)\n",
    "if save :match_data_df.to_csv(\"intermediate6.csv\")"
   ],
   "id": "914ef304ebdd4340",
   "outputs": [],
   "execution_count": null
  },
  {
   "metadata": {},
   "cell_type": "code",
   "source": [
    "# Custom explode function with progress bar\n",
    "def custom_explode_with_progress(df, column):\n",
    "    rows = []\n",
    "    total_rows = len(df)\n",
    "    with tqdm(total=total_rows) as pbar:\n",
    "        for _, row in df.iterrows():\n",
    "            for val in row[column]:\n",
    "                new_row = row.to_dict()\n",
    "                new_row[column] = val\n",
    "                rows.append(new_row)\n",
    "            pbar.update(1)  # Update progress bar\n",
    "    return pd.DataFrame(rows)\n",
    "\n",
    "# Explode the DataFrame with progress bar\n",
    "match_data_df = custom_explode_with_progress(match_data_df, 'zawodnicy')\n",
    "if save :match_data_df.to_csv(\"intermediate7.csv\")"
   ],
   "id": "253592d4b9317298",
   "outputs": [],
   "execution_count": null
  },
  {
   "metadata": {
    "ExecuteTime": {
     "end_time": "2024-06-16T17:55:05.317533Z",
     "start_time": "2024-06-16T17:55:05.238961Z"
    }
   },
   "cell_type": "code",
   "source": [
    "match_data_df = match_data_df[['gameCreation', 'gameDuration', 'gameVersion', 'zawodnicy']]\n",
    "if save :match_data_df.to_csv(\"intermediate8.csv\")"
   ],
   "id": "770a7d3c3ab0ddba",
   "outputs": [],
   "execution_count": 3
  },
  {
   "metadata": {
    "ExecuteTime": {
     "end_time": "2024-06-16T17:55:09.115697Z",
     "start_time": "2024-06-16T17:55:05.318533Z"
    }
   },
   "cell_type": "code",
   "source": [
    "match_data_df['zawodnicy'] = match_data_df['zawodnicy'].str.replace(\"\\'\",\"\\\"\")\n",
    "if save :match_data_df.to_csv(\"intermediate9.csv\")"
   ],
   "id": "104bdd6c0b395801",
   "outputs": [],
   "execution_count": 4
  },
  {
   "metadata": {
    "ExecuteTime": {
     "end_time": "2024-06-16T17:55:09.556676Z",
     "start_time": "2024-06-16T17:55:09.116694Z"
    }
   },
   "cell_type": "code",
   "source": [
    "match_data_df.drop(match_data_df[match_data_df.isna().any(axis=1)].index,inplace=True)\n",
    "if save :match_data_df.to_csv(\"intermediate10.csv\")"
   ],
   "id": "f008a1dbaf9b6d94",
   "outputs": [],
   "execution_count": 5
  },
  {
   "metadata": {
    "ExecuteTime": {
     "end_time": "2024-06-16T18:00:45.622870Z",
     "start_time": "2024-06-16T17:55:09.557680Z"
    }
   },
   "cell_type": "code",
   "source": [
    "match_data_df['zawodnicy'] = match_data_df['zawodnicy'].apply(ast.literal_eval)\n",
    "if save :match_data_df.to_csv(\"intermediate11.csv\")"
   ],
   "id": "846e1fc1a2c9da3c",
   "outputs": [],
   "execution_count": 6
  },
  {
   "metadata": {
    "ExecuteTime": {
     "end_time": "2024-06-16T18:02:32.231843Z",
     "start_time": "2024-06-16T18:00:57.050923Z"
    }
   },
   "cell_type": "code",
   "source": [
    "match_data_df = match_data_df.join(pd.json_normalize(match_data_df.pop('zawodnicy')))\n",
    "if save :match_data_df.to_csv(\"intermediate12.csv\")"
   ],
   "id": "45cecd3adf28a1bc",
   "outputs": [],
   "execution_count": 7
  },
  {
   "metadata": {
    "ExecuteTime": {
     "end_time": "2024-06-16T18:25:41.307940Z",
     "start_time": "2024-06-16T18:25:34.074084Z"
    }
   },
   "cell_type": "code",
   "source": [
    "match_data_df = match_data_df[['gameCreation', 'gameDuration', 'gameVersion', 'stats.win', 'stats.kills', 'stats.deaths', 'stats.assists', 'stats.firstBloodKill', 'stats.visionScore', 'stats.pentaKills', 'stats.goldEarned', 'stats.damageDealtToTurrets', 'stats.totalDamageDealtToChampions']]\n",
    "if save :match_data_df.to_csv(\"intermediate13.csv\")"
   ],
   "id": "32668cb865b9e4fe",
   "outputs": [],
   "execution_count": 18
  },
  {
   "metadata": {
    "ExecuteTime": {
     "end_time": "2024-06-16T18:27:01.040937Z",
     "start_time": "2024-06-16T18:26:53.075598Z"
    }
   },
   "cell_type": "code",
   "source": [
    "\n",
    "def categorize_game_duration(duration):\n",
    "    if duration < 20 * 60:\n",
    "        return \"Krótka\"\n",
    "    elif 20 * 60 <= duration <= 30 * 60:\n",
    "        return \"Normalna\"\n",
    "    else:\n",
    "        return \"Długa\"\n",
    "match_data_df['gameDurationDiscrete'] = match_data_df['gameDuration'].apply(categorize_game_duration)\n",
    "if save :match_data_df.to_csv(\"intermediate14.csv\")"
   ],
   "id": "4ee369b8b36a6107",
   "outputs": [],
   "execution_count": 19
  },
  {
   "metadata": {
    "ExecuteTime": {
     "end_time": "2024-06-16T18:29:26.560873Z",
     "start_time": "2024-06-16T18:29:18.337592Z"
    }
   },
   "cell_type": "code",
   "source": [
    "def game_duration_to_minutes(duration):\n",
    "    return duration // 60\n",
    "match_data_df['gameDurationMinutes'] = match_data_df['gameDuration'].apply(game_duration_to_minutes)\n",
    "if save :match_data_df.to_csv(\"intermediate15.csv\")"
   ],
   "id": "5a965fdda85836ee",
   "outputs": [],
   "execution_count": 22
  },
  {
   "metadata": {
    "ExecuteTime": {
     "end_time": "2024-06-16T18:35:40.226852Z",
     "start_time": "2024-06-16T18:35:20.272247Z"
    }
   },
   "cell_type": "code",
   "source": [
    "def discretize_kda(row):\n",
    "    kills = row['stats.kills']\n",
    "    deaths = row['stats.deaths']\n",
    "    assists = row['stats.assists']\n",
    "    if deaths == 0:\n",
    "        return \"Duże\"\n",
    "    kda = (kills+assists)/deaths\n",
    "    if kda < 1:\n",
    "        return 'Małe'\n",
    "    if kda < 2:\n",
    "        return 'Średnie'\n",
    "    return 'Duże'\n",
    "match_data_df['kdaDiscrete'] = match_data_df.apply(discretize_kda, axis=1)\n",
    "if save : match_data_df.to_csv(\"intermediate16.csv\")"
   ],
   "id": "37d92fad74b11af8",
   "outputs": [],
   "execution_count": 25
  },
  {
   "metadata": {
    "ExecuteTime": {
     "end_time": "2024-06-16T18:42:14.485495Z",
     "start_time": "2024-06-16T18:42:05.581040Z"
    }
   },
   "cell_type": "code",
   "source": [
    "match_data_df['gameCreationMonth'] = pd.to_datetime(match_data_df['gameCreation'], unit='ms').dt.month\n",
    "if save: match_data_df.to_csv(\"intermediate17.csv\")"
   ],
   "id": "459a2027c616d071",
   "outputs": [],
   "execution_count": 29
  },
  {
   "metadata": {
    "ExecuteTime": {
     "end_time": "2024-06-16T18:56:07.332615Z",
     "start_time": "2024-06-16T18:55:58.073750Z"
    }
   },
   "cell_type": "code",
   "source": [
    "match_data_df['isWeekend'] = pd.to_datetime(match_data_df['gameCreation'], unit='ms').dt.dayofweek>=5\n",
    "if save: match_data_df.to_csv(\"intermediate18.csv\")"
   ],
   "id": "fbc1b0229bfb40f",
   "outputs": [],
   "execution_count": 32
  },
  {
   "metadata": {
    "ExecuteTime": {
     "end_time": "2024-06-16T18:59:16.548343Z",
     "start_time": "2024-06-16T18:59:05.045088Z"
    }
   },
   "cell_type": "code",
   "source": [
    "match_data_df['gameVersion'] = match_data_df['gameVersion'].str.split('.').str[:2].str.join('.')\n",
    "if save: match_data_df.to_csv(\"intermediate19.csv\")"
   ],
   "id": "2d9d7f14f07e1078",
   "outputs": [],
   "execution_count": 36
  },
  {
   "metadata": {
    "ExecuteTime": {
     "end_time": "2024-06-16T19:24:54.781972Z",
     "start_time": "2024-06-16T19:24:46.755257Z"
    }
   },
   "cell_type": "code",
   "source": [
    "indexList3 = [i for i in match_data_df[match_data_df['gameVersion'].str[:2] != '10'].index if i != 0]\n",
    "\n",
    "match_data_df.drop(indexList3, inplace=True)\n",
    "if save: match_data_df.to_csv(\"intermediate20.csv\")"
   ],
   "id": "f048d1b8e5fa07a4",
   "outputs": [],
   "execution_count": 48
  },
  {
   "metadata": {
    "ExecuteTime": {
     "end_time": "2024-06-16T19:27:12.674767Z",
     "start_time": "2024-06-16T19:27:07.153318Z"
    }
   },
   "cell_type": "code",
   "source": [
    "match_data_df.drop(['stats.kills', 'stats.assists', 'gameCreation', 'gameDuration'], axis=1, inplace=True)\n",
    "if save: match_data_df.to_csv(\"intermediate21.csv\")"
   ],
   "id": "4fd35dcc33d93fa6",
   "outputs": [],
   "execution_count": 50
  },
  {
   "metadata": {
    "ExecuteTime": {
     "end_time": "2024-06-16T19:41:48.784937Z",
     "start_time": "2024-06-16T19:41:42.550985Z"
    }
   },
   "cell_type": "code",
   "source": [
    "match_data_df.dropna(axis=0,inplace = True)\n",
    "if save: match_data_df.to_csv(\"intermediate22.csv\")"
   ],
   "id": "49a48ebb4195a64f",
   "outputs": [],
   "execution_count": 76
  },
  {
   "metadata": {
    "ExecuteTime": {
     "end_time": "2024-06-16T19:50:12.984780Z",
     "start_time": "2024-06-16T19:44:00.300281Z"
    }
   },
   "cell_type": "code",
   "source": [
    "unique_combinations = match_data_df[['stats.win', 'kdaDiscrete', 'stats.firstBloodKill']].drop_duplicates().reset_index(drop=True)\n",
    "\n",
    "match_data_df['profilStatystykGraczaWMeczu'] = match_data_df[['stats.win', 'kdaDiscrete', 'stats.firstBloodKill']].apply(\n",
    "    lambda row: unique_combinations[\n",
    "        (unique_combinations['stats.win'] == row['stats.win']) &\n",
    "        (unique_combinations['kdaDiscrete'] == row['kdaDiscrete']) &\n",
    "        (unique_combinations['stats.firstBloodKill'] == row['stats.firstBloodKill'])\n",
    "    ].index[0], axis=1\n",
    ")\n",
    "match_data_df.drop(['stats.win', 'kdaDiscrete', 'stats.firstBloodKill'], axis=1, inplace=True)\n",
    "if save: \n",
    "    match_data_df.to_csv(\"intermediate23.csv\")\n",
    "    unique_combinations.to_csv(\"dimprofilstatystyk23.csv\")"
   ],
   "id": "69eb106c165902f0",
   "outputs": [],
   "execution_count": 79
  },
  {
   "metadata": {
    "ExecuteTime": {
     "end_time": "2024-06-16T20:07:09.700427Z",
     "start_time": "2024-06-16T20:02:24.467203Z"
    }
   },
   "cell_type": "code",
   "source": [
    "unique_combinations2 = match_data_df[['gameDurationDiscrete', 'gameDurationMinutes']].drop_duplicates().reset_index(drop=True)\n",
    "\n",
    "match_data_df['gameDurationDim'] = match_data_df[['gameDurationDiscrete', 'gameDurationMinutes']].apply(\n",
    "    lambda row: unique_combinations2[\n",
    "        (unique_combinations2['gameDurationDiscrete'] == row['gameDurationDiscrete']) &\n",
    "        (unique_combinations2['gameDurationMinutes'] == row['gameDurationMinutes'])\n",
    "    ].index[0], axis=1\n",
    ")\n",
    "match_data_df.drop(['gameDurationMinutes', 'gameDurationDiscrete'], axis=1, inplace=True)\n",
    "if save: \n",
    "    match_data_df.to_csv(\"intermediate24.csv\")\n",
    "    unique_combinations.to_csv(\"dimprofilstatystyk24.csv\")\n",
    "    unique_combinations2.to_csv(\"dimgameduration24.csv\")"
   ],
   "id": "39d5c725b75ec3ea",
   "outputs": [],
   "execution_count": 94
  },
  {
   "metadata": {
    "ExecuteTime": {
     "end_time": "2024-06-16T20:13:50.189856Z",
     "start_time": "2024-06-16T20:07:09.701451Z"
    }
   },
   "cell_type": "code",
   "source": [
    "unique_combinations3 = match_data_df[['gameVersion', 'gameCreationMonth', 'isWeekend']].drop_duplicates().reset_index(drop=True)\n",
    "\n",
    "match_data_df['gameVersionDim'] = match_data_df[['gameVersion', 'gameCreationMonth', 'isWeekend']].apply(\n",
    "    lambda row: unique_combinations3[\n",
    "        (unique_combinations3['gameVersion'] == row['gameVersion']) &\n",
    "        (unique_combinations3['gameCreationMonth'] == row['gameCreationMonth'])&\n",
    "        (unique_combinations3['isWeekend'] == row['isWeekend'])\n",
    "    ].index[0], axis=1\n",
    ")\n",
    "match_data_df.drop(['gameVersion', 'gameCreationMonth', 'isWeekend'], axis=1, inplace=True)\n",
    "if save: \n",
    "    match_data_df.to_csv(\"intermediate25.csv\")\n",
    "    unique_combinations.to_csv(\"dimprofilstatystyk25.csv\")\n",
    "    unique_combinations2.to_csv(\"dimgameduration25.csv\")\n",
    "    unique_combinations3.to_csv(\"dimgamecreationtime25.csv\")"
   ],
   "id": "e0bf8e3b45c7e092",
   "outputs": [],
   "execution_count": 95
  },
  {
   "metadata": {
    "ExecuteTime": {
     "end_time": "2024-06-16T20:16:35.484995Z",
     "start_time": "2024-06-16T20:16:35.462057Z"
    }
   },
   "cell_type": "code",
   "source": "",
   "id": "cb3855c385b424dc",
   "outputs": [
    {
     "data": {
      "text/plain": [
       "        Unnamed: 0  stats.deaths  stats.visionScore  stats.pentaKills  \\\n",
       "0                0           6.0               14.0               0.0   \n",
       "1                1           6.0               34.0               0.0   \n",
       "2                2           5.0                8.0               0.0   \n",
       "3                3           7.0               21.0               0.0   \n",
       "4                4           7.0               14.0               0.0   \n",
       "...            ...           ...                ...               ...   \n",
       "876299      982312           6.0               10.0               0.0   \n",
       "876300      982313           3.0               26.0               0.0   \n",
       "876301      982314           4.0                6.0               0.0   \n",
       "876302      982315           3.0               30.0               0.0   \n",
       "876303      982316           4.0               13.0               0.0   \n",
       "\n",
       "        stats.goldEarned  stats.damageDealtToTurrets  \\\n",
       "0                 6844.0                      1008.0   \n",
       "1                 5205.0                       427.0   \n",
       "2                 8226.0                       515.0   \n",
       "3                 7911.0                       451.0   \n",
       "4                 8815.0                      1103.0   \n",
       "...                  ...                         ...   \n",
       "876299            7182.0                      1168.0   \n",
       "876300            5796.0                        26.0   \n",
       "876301            7741.0                      2034.0   \n",
       "876302            6531.0                       820.0   \n",
       "876303            6867.0                         0.0   \n",
       "\n",
       "        stats.totalDamageDealtToChampions  profilStatystykGraczaWMeczu  \\\n",
       "0                                 10844.0                            0   \n",
       "1                                  7095.0                            1   \n",
       "2                                 13458.0                            1   \n",
       "3                                  9670.0                            1   \n",
       "4                                 14972.0                            1   \n",
       "...                                   ...                          ...   \n",
       "876299                            13231.0                            1   \n",
       "876300                             6479.0                            1   \n",
       "876301                            10619.0                            1   \n",
       "876302                             3574.0                            5   \n",
       "876303                             7285.0                            1   \n",
       "\n",
       "        gameDurationDim  gameVersionDim  \n",
       "0                     0               0  \n",
       "1                     0               0  \n",
       "2                     0               0  \n",
       "3                     0               0  \n",
       "4                     0               0  \n",
       "...                 ...             ...  \n",
       "876299               15               7  \n",
       "876300               15               7  \n",
       "876301               15               7  \n",
       "876302               15               7  \n",
       "876303               15               7  \n",
       "\n",
       "[876050 rows x 10 columns]"
      ],
      "text/html": [
       "<div>\n",
       "<style scoped>\n",
       "    .dataframe tbody tr th:only-of-type {\n",
       "        vertical-align: middle;\n",
       "    }\n",
       "\n",
       "    .dataframe tbody tr th {\n",
       "        vertical-align: top;\n",
       "    }\n",
       "\n",
       "    .dataframe thead th {\n",
       "        text-align: right;\n",
       "    }\n",
       "</style>\n",
       "<table border=\"1\" class=\"dataframe\">\n",
       "  <thead>\n",
       "    <tr style=\"text-align: right;\">\n",
       "      <th></th>\n",
       "      <th>Unnamed: 0</th>\n",
       "      <th>stats.deaths</th>\n",
       "      <th>stats.visionScore</th>\n",
       "      <th>stats.pentaKills</th>\n",
       "      <th>stats.goldEarned</th>\n",
       "      <th>stats.damageDealtToTurrets</th>\n",
       "      <th>stats.totalDamageDealtToChampions</th>\n",
       "      <th>profilStatystykGraczaWMeczu</th>\n",
       "      <th>gameDurationDim</th>\n",
       "      <th>gameVersionDim</th>\n",
       "    </tr>\n",
       "  </thead>\n",
       "  <tbody>\n",
       "    <tr>\n",
       "      <th>0</th>\n",
       "      <td>0</td>\n",
       "      <td>6.0</td>\n",
       "      <td>14.0</td>\n",
       "      <td>0.0</td>\n",
       "      <td>6844.0</td>\n",
       "      <td>1008.0</td>\n",
       "      <td>10844.0</td>\n",
       "      <td>0</td>\n",
       "      <td>0</td>\n",
       "      <td>0</td>\n",
       "    </tr>\n",
       "    <tr>\n",
       "      <th>1</th>\n",
       "      <td>1</td>\n",
       "      <td>6.0</td>\n",
       "      <td>34.0</td>\n",
       "      <td>0.0</td>\n",
       "      <td>5205.0</td>\n",
       "      <td>427.0</td>\n",
       "      <td>7095.0</td>\n",
       "      <td>1</td>\n",
       "      <td>0</td>\n",
       "      <td>0</td>\n",
       "    </tr>\n",
       "    <tr>\n",
       "      <th>2</th>\n",
       "      <td>2</td>\n",
       "      <td>5.0</td>\n",
       "      <td>8.0</td>\n",
       "      <td>0.0</td>\n",
       "      <td>8226.0</td>\n",
       "      <td>515.0</td>\n",
       "      <td>13458.0</td>\n",
       "      <td>1</td>\n",
       "      <td>0</td>\n",
       "      <td>0</td>\n",
       "    </tr>\n",
       "    <tr>\n",
       "      <th>3</th>\n",
       "      <td>3</td>\n",
       "      <td>7.0</td>\n",
       "      <td>21.0</td>\n",
       "      <td>0.0</td>\n",
       "      <td>7911.0</td>\n",
       "      <td>451.0</td>\n",
       "      <td>9670.0</td>\n",
       "      <td>1</td>\n",
       "      <td>0</td>\n",
       "      <td>0</td>\n",
       "    </tr>\n",
       "    <tr>\n",
       "      <th>4</th>\n",
       "      <td>4</td>\n",
       "      <td>7.0</td>\n",
       "      <td>14.0</td>\n",
       "      <td>0.0</td>\n",
       "      <td>8815.0</td>\n",
       "      <td>1103.0</td>\n",
       "      <td>14972.0</td>\n",
       "      <td>1</td>\n",
       "      <td>0</td>\n",
       "      <td>0</td>\n",
       "    </tr>\n",
       "    <tr>\n",
       "      <th>...</th>\n",
       "      <td>...</td>\n",
       "      <td>...</td>\n",
       "      <td>...</td>\n",
       "      <td>...</td>\n",
       "      <td>...</td>\n",
       "      <td>...</td>\n",
       "      <td>...</td>\n",
       "      <td>...</td>\n",
       "      <td>...</td>\n",
       "      <td>...</td>\n",
       "    </tr>\n",
       "    <tr>\n",
       "      <th>876299</th>\n",
       "      <td>982312</td>\n",
       "      <td>6.0</td>\n",
       "      <td>10.0</td>\n",
       "      <td>0.0</td>\n",
       "      <td>7182.0</td>\n",
       "      <td>1168.0</td>\n",
       "      <td>13231.0</td>\n",
       "      <td>1</td>\n",
       "      <td>15</td>\n",
       "      <td>7</td>\n",
       "    </tr>\n",
       "    <tr>\n",
       "      <th>876300</th>\n",
       "      <td>982313</td>\n",
       "      <td>3.0</td>\n",
       "      <td>26.0</td>\n",
       "      <td>0.0</td>\n",
       "      <td>5796.0</td>\n",
       "      <td>26.0</td>\n",
       "      <td>6479.0</td>\n",
       "      <td>1</td>\n",
       "      <td>15</td>\n",
       "      <td>7</td>\n",
       "    </tr>\n",
       "    <tr>\n",
       "      <th>876301</th>\n",
       "      <td>982314</td>\n",
       "      <td>4.0</td>\n",
       "      <td>6.0</td>\n",
       "      <td>0.0</td>\n",
       "      <td>7741.0</td>\n",
       "      <td>2034.0</td>\n",
       "      <td>10619.0</td>\n",
       "      <td>1</td>\n",
       "      <td>15</td>\n",
       "      <td>7</td>\n",
       "    </tr>\n",
       "    <tr>\n",
       "      <th>876302</th>\n",
       "      <td>982315</td>\n",
       "      <td>3.0</td>\n",
       "      <td>30.0</td>\n",
       "      <td>0.0</td>\n",
       "      <td>6531.0</td>\n",
       "      <td>820.0</td>\n",
       "      <td>3574.0</td>\n",
       "      <td>5</td>\n",
       "      <td>15</td>\n",
       "      <td>7</td>\n",
       "    </tr>\n",
       "    <tr>\n",
       "      <th>876303</th>\n",
       "      <td>982316</td>\n",
       "      <td>4.0</td>\n",
       "      <td>13.0</td>\n",
       "      <td>0.0</td>\n",
       "      <td>6867.0</td>\n",
       "      <td>0.0</td>\n",
       "      <td>7285.0</td>\n",
       "      <td>1</td>\n",
       "      <td>15</td>\n",
       "      <td>7</td>\n",
       "    </tr>\n",
       "  </tbody>\n",
       "</table>\n",
       "<p>876050 rows × 10 columns</p>\n",
       "</div>"
      ]
     },
     "execution_count": 96,
     "metadata": {},
     "output_type": "execute_result"
    }
   ],
   "execution_count": 96
  }
 ],
 "metadata": {
  "kernelspec": {
   "display_name": "Python 3",
   "language": "python",
   "name": "python3"
  },
  "language_info": {
   "codemirror_mode": {
    "name": "ipython",
    "version": 2
   },
   "file_extension": ".py",
   "mimetype": "text/x-python",
   "name": "python",
   "nbconvert_exporter": "python",
   "pygments_lexer": "ipython2",
   "version": "2.7.6"
  }
 },
 "nbformat": 4,
 "nbformat_minor": 5
}
